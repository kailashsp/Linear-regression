{
 "cells": [
  {
   "cell_type": "code",
   "execution_count": 68,
   "id": "641b20a3",
   "metadata": {},
   "outputs": [],
   "source": [
    "# importing the require libraries\n",
    "import pandas as pd\n",
    "import numpy as np\n",
    "import matplotlib.pyplot as plt\n",
    "import seaborn as sns\n",
    "import warnings\n",
    "warnings.filterwarnings('ignore')"
   ]
  },
  {
   "cell_type": "code",
   "execution_count": 69,
   "id": "500068e5",
   "metadata": {},
   "outputs": [],
   "source": [
    "#reading the data\n",
    "insurance = pd.read_csv(\"insurance.csv\")"
   ]
  },
  {
   "cell_type": "code",
   "execution_count": 70,
   "id": "1ad927ad",
   "metadata": {},
   "outputs": [
    {
     "data": {
      "text/plain": [
       "(1338, 7)"
      ]
     },
     "execution_count": 70,
     "metadata": {},
     "output_type": "execute_result"
    }
   ],
   "source": [
    "insurance.shape"
   ]
  },
  {
   "cell_type": "code",
   "execution_count": 71,
   "id": "616893f0",
   "metadata": {},
   "outputs": [],
   "source": [
    "a = insurance.shape[0]"
   ]
  },
  {
   "cell_type": "code",
   "execution_count": 72,
   "id": "e9b6beea",
   "metadata": {},
   "outputs": [
    {
     "data": {
      "text/plain": [
       "age           int64\n",
       "sex          object\n",
       "bmi         float64\n",
       "children      int64\n",
       "smoker       object\n",
       "region       object\n",
       "charges     float64\n",
       "dtype: object"
      ]
     },
     "execution_count": 72,
     "metadata": {},
     "output_type": "execute_result"
    }
   ],
   "source": [
    "#checking for the type of data in each column\n",
    "insurance.dtypes"
   ]
  },
  {
   "cell_type": "code",
   "execution_count": 73,
   "id": "bab0af19",
   "metadata": {},
   "outputs": [
    {
     "data": {
      "text/html": [
       "<div>\n",
       "<style scoped>\n",
       "    .dataframe tbody tr th:only-of-type {\n",
       "        vertical-align: middle;\n",
       "    }\n",
       "\n",
       "    .dataframe tbody tr th {\n",
       "        vertical-align: top;\n",
       "    }\n",
       "\n",
       "    .dataframe thead th {\n",
       "        text-align: right;\n",
       "    }\n",
       "</style>\n",
       "<table border=\"1\" class=\"dataframe\">\n",
       "  <thead>\n",
       "    <tr style=\"text-align: right;\">\n",
       "      <th></th>\n",
       "      <th>age</th>\n",
       "      <th>sex</th>\n",
       "      <th>bmi</th>\n",
       "      <th>children</th>\n",
       "      <th>smoker</th>\n",
       "      <th>region</th>\n",
       "      <th>charges</th>\n",
       "    </tr>\n",
       "  </thead>\n",
       "  <tbody>\n",
       "    <tr>\n",
       "      <th>0</th>\n",
       "      <td>19</td>\n",
       "      <td>female</td>\n",
       "      <td>27.900</td>\n",
       "      <td>0</td>\n",
       "      <td>yes</td>\n",
       "      <td>southwest</td>\n",
       "      <td>16884.92400</td>\n",
       "    </tr>\n",
       "    <tr>\n",
       "      <th>1</th>\n",
       "      <td>18</td>\n",
       "      <td>male</td>\n",
       "      <td>33.770</td>\n",
       "      <td>1</td>\n",
       "      <td>no</td>\n",
       "      <td>southeast</td>\n",
       "      <td>1725.55230</td>\n",
       "    </tr>\n",
       "    <tr>\n",
       "      <th>2</th>\n",
       "      <td>28</td>\n",
       "      <td>male</td>\n",
       "      <td>33.000</td>\n",
       "      <td>3</td>\n",
       "      <td>no</td>\n",
       "      <td>southeast</td>\n",
       "      <td>4449.46200</td>\n",
       "    </tr>\n",
       "    <tr>\n",
       "      <th>3</th>\n",
       "      <td>33</td>\n",
       "      <td>male</td>\n",
       "      <td>22.705</td>\n",
       "      <td>0</td>\n",
       "      <td>no</td>\n",
       "      <td>northwest</td>\n",
       "      <td>21984.47061</td>\n",
       "    </tr>\n",
       "    <tr>\n",
       "      <th>4</th>\n",
       "      <td>32</td>\n",
       "      <td>male</td>\n",
       "      <td>28.880</td>\n",
       "      <td>0</td>\n",
       "      <td>no</td>\n",
       "      <td>northwest</td>\n",
       "      <td>3866.85520</td>\n",
       "    </tr>\n",
       "  </tbody>\n",
       "</table>\n",
       "</div>"
      ],
      "text/plain": [
       "   age     sex     bmi  children smoker     region      charges\n",
       "0   19  female  27.900         0    yes  southwest  16884.92400\n",
       "1   18    male  33.770         1     no  southeast   1725.55230\n",
       "2   28    male  33.000         3     no  southeast   4449.46200\n",
       "3   33    male  22.705         0     no  northwest  21984.47061\n",
       "4   32    male  28.880         0     no  northwest   3866.85520"
      ]
     },
     "execution_count": 73,
     "metadata": {},
     "output_type": "execute_result"
    }
   ],
   "source": [
    "#looking at first five rows\n",
    "insurance.head()"
   ]
  },
  {
   "cell_type": "code",
   "execution_count": 74,
   "id": "faf95ba0",
   "metadata": {
    "scrolled": true
   },
   "outputs": [
    {
     "data": {
      "text/html": [
       "<div>\n",
       "<style scoped>\n",
       "    .dataframe tbody tr th:only-of-type {\n",
       "        vertical-align: middle;\n",
       "    }\n",
       "\n",
       "    .dataframe tbody tr th {\n",
       "        vertical-align: top;\n",
       "    }\n",
       "\n",
       "    .dataframe thead th {\n",
       "        text-align: right;\n",
       "    }\n",
       "</style>\n",
       "<table border=\"1\" class=\"dataframe\">\n",
       "  <thead>\n",
       "    <tr style=\"text-align: right;\">\n",
       "      <th></th>\n",
       "      <th>age</th>\n",
       "      <th>bmi</th>\n",
       "      <th>children</th>\n",
       "      <th>charges</th>\n",
       "    </tr>\n",
       "  </thead>\n",
       "  <tbody>\n",
       "    <tr>\n",
       "      <th>count</th>\n",
       "      <td>1338.000000</td>\n",
       "      <td>1338.000000</td>\n",
       "      <td>1338.000000</td>\n",
       "      <td>1338.000000</td>\n",
       "    </tr>\n",
       "    <tr>\n",
       "      <th>mean</th>\n",
       "      <td>39.207025</td>\n",
       "      <td>30.663397</td>\n",
       "      <td>1.094918</td>\n",
       "      <td>13270.422265</td>\n",
       "    </tr>\n",
       "    <tr>\n",
       "      <th>std</th>\n",
       "      <td>14.049960</td>\n",
       "      <td>6.098187</td>\n",
       "      <td>1.205493</td>\n",
       "      <td>12110.011237</td>\n",
       "    </tr>\n",
       "    <tr>\n",
       "      <th>min</th>\n",
       "      <td>18.000000</td>\n",
       "      <td>15.960000</td>\n",
       "      <td>0.000000</td>\n",
       "      <td>1121.873900</td>\n",
       "    </tr>\n",
       "    <tr>\n",
       "      <th>25%</th>\n",
       "      <td>27.000000</td>\n",
       "      <td>26.296250</td>\n",
       "      <td>0.000000</td>\n",
       "      <td>4740.287150</td>\n",
       "    </tr>\n",
       "    <tr>\n",
       "      <th>50%</th>\n",
       "      <td>39.000000</td>\n",
       "      <td>30.400000</td>\n",
       "      <td>1.000000</td>\n",
       "      <td>9382.033000</td>\n",
       "    </tr>\n",
       "    <tr>\n",
       "      <th>75%</th>\n",
       "      <td>51.000000</td>\n",
       "      <td>34.693750</td>\n",
       "      <td>2.000000</td>\n",
       "      <td>16639.912515</td>\n",
       "    </tr>\n",
       "    <tr>\n",
       "      <th>max</th>\n",
       "      <td>64.000000</td>\n",
       "      <td>53.130000</td>\n",
       "      <td>5.000000</td>\n",
       "      <td>63770.428010</td>\n",
       "    </tr>\n",
       "  </tbody>\n",
       "</table>\n",
       "</div>"
      ],
      "text/plain": [
       "               age          bmi     children       charges\n",
       "count  1338.000000  1338.000000  1338.000000   1338.000000\n",
       "mean     39.207025    30.663397     1.094918  13270.422265\n",
       "std      14.049960     6.098187     1.205493  12110.011237\n",
       "min      18.000000    15.960000     0.000000   1121.873900\n",
       "25%      27.000000    26.296250     0.000000   4740.287150\n",
       "50%      39.000000    30.400000     1.000000   9382.033000\n",
       "75%      51.000000    34.693750     2.000000  16639.912515\n",
       "max      64.000000    53.130000     5.000000  63770.428010"
      ]
     },
     "execution_count": 74,
     "metadata": {},
     "output_type": "execute_result"
    }
   ],
   "source": [
    "#looking at the statistics of different column values\n",
    "insurance.describe()\n"
   ]
  },
  {
   "cell_type": "code",
   "execution_count": 75,
   "id": "c2293afa",
   "metadata": {
    "scrolled": true
   },
   "outputs": [
    {
     "data": {
      "text/plain": [
       "age         0\n",
       "sex         0\n",
       "bmi         0\n",
       "children    0\n",
       "smoker      0\n",
       "region      0\n",
       "charges     0\n",
       "dtype: int64"
      ]
     },
     "execution_count": 75,
     "metadata": {},
     "output_type": "execute_result"
    }
   ],
   "source": [
    "insurance.isnull().sum() # checking for null values"
   ]
  },
  {
   "cell_type": "code",
   "execution_count": 76,
   "id": "4405bb18",
   "metadata": {
    "scrolled": false
   },
   "outputs": [
    {
     "data": {
      "text/html": [
       "<div>\n",
       "<style scoped>\n",
       "    .dataframe tbody tr th:only-of-type {\n",
       "        vertical-align: middle;\n",
       "    }\n",
       "\n",
       "    .dataframe tbody tr th {\n",
       "        vertical-align: top;\n",
       "    }\n",
       "\n",
       "    .dataframe thead th {\n",
       "        text-align: right;\n",
       "    }\n",
       "</style>\n",
       "<table border=\"1\" class=\"dataframe\">\n",
       "  <thead>\n",
       "    <tr style=\"text-align: right;\">\n",
       "      <th></th>\n",
       "      <th>age</th>\n",
       "      <th>bmi</th>\n",
       "      <th>children</th>\n",
       "      <th>charges</th>\n",
       "    </tr>\n",
       "  </thead>\n",
       "  <tbody>\n",
       "    <tr>\n",
       "      <th>age</th>\n",
       "      <td>1.000000</td>\n",
       "      <td>0.109272</td>\n",
       "      <td>0.042469</td>\n",
       "      <td>0.299008</td>\n",
       "    </tr>\n",
       "    <tr>\n",
       "      <th>bmi</th>\n",
       "      <td>0.109272</td>\n",
       "      <td>1.000000</td>\n",
       "      <td>0.012759</td>\n",
       "      <td>0.198341</td>\n",
       "    </tr>\n",
       "    <tr>\n",
       "      <th>children</th>\n",
       "      <td>0.042469</td>\n",
       "      <td>0.012759</td>\n",
       "      <td>1.000000</td>\n",
       "      <td>0.067998</td>\n",
       "    </tr>\n",
       "    <tr>\n",
       "      <th>charges</th>\n",
       "      <td>0.299008</td>\n",
       "      <td>0.198341</td>\n",
       "      <td>0.067998</td>\n",
       "      <td>1.000000</td>\n",
       "    </tr>\n",
       "  </tbody>\n",
       "</table>\n",
       "</div>"
      ],
      "text/plain": [
       "               age       bmi  children   charges\n",
       "age       1.000000  0.109272  0.042469  0.299008\n",
       "bmi       0.109272  1.000000  0.012759  0.198341\n",
       "children  0.042469  0.012759  1.000000  0.067998\n",
       "charges   0.299008  0.198341  0.067998  1.000000"
      ]
     },
     "execution_count": 76,
     "metadata": {},
     "output_type": "execute_result"
    }
   ],
   "source": [
    "# correlation matrix\n",
    "insurance.corr()"
   ]
  },
  {
   "cell_type": "markdown",
   "id": "e7fb42c7",
   "metadata": {},
   "source": [
    "\n",
    "**The target variable of \"*charges*\" has a high positive relation with age and bmi**.\n"
   ]
  },
  {
   "cell_type": "code",
   "execution_count": 77,
   "id": "523dc05d",
   "metadata": {},
   "outputs": [],
   "source": [
    "#creating a categorical column for age range\n",
    "agerange= [17,25,30,35,40,45,50,55,60,65]\n",
    "agelabels = ['18-25','25-30','30-35','35-40','40-45','45-50','50-55','55-60','60-65']\n",
    "insurance[\"age_group\"]= pd.cut(insurance['age'], bins=agerange, labels=agelabels,right=True)"
   ]
  },
  {
   "cell_type": "code",
   "execution_count": 78,
   "id": "70c1bf8e",
   "metadata": {},
   "outputs": [],
   "source": [
    "#creating a categorical column for bmi range\n",
    "bmirange = [15,20,25,30,35,40,45,50,55]\n",
    "bmilabels =['15-20','20-25','25-30','30-35','35-40','40-45','40-50','50-55']\n",
    "insurance[\"bmi_group\"] = pd.cut(insurance['bmi'],bins=bmirange,labels=bmilabels,right=True)"
   ]
  },
  {
   "cell_type": "markdown",
   "id": "ba7dfb26",
   "metadata": {},
   "source": [
    "#### **The age and bmi column is categorized to different groups and labelled and assigned back in dataframe** #####"
   ]
  },
  {
   "cell_type": "code",
   "execution_count": 79,
   "id": "377bf9a9",
   "metadata": {
    "scrolled": true
   },
   "outputs": [
    {
     "data": {
      "text/html": [
       "<div>\n",
       "<style scoped>\n",
       "    .dataframe tbody tr th:only-of-type {\n",
       "        vertical-align: middle;\n",
       "    }\n",
       "\n",
       "    .dataframe tbody tr th {\n",
       "        vertical-align: top;\n",
       "    }\n",
       "\n",
       "    .dataframe thead th {\n",
       "        text-align: right;\n",
       "    }\n",
       "</style>\n",
       "<table border=\"1\" class=\"dataframe\">\n",
       "  <thead>\n",
       "    <tr style=\"text-align: right;\">\n",
       "      <th></th>\n",
       "      <th>age</th>\n",
       "      <th>sex</th>\n",
       "      <th>bmi</th>\n",
       "      <th>children</th>\n",
       "      <th>smoker</th>\n",
       "      <th>region</th>\n",
       "      <th>charges</th>\n",
       "      <th>age_group</th>\n",
       "      <th>bmi_group</th>\n",
       "    </tr>\n",
       "  </thead>\n",
       "  <tbody>\n",
       "    <tr>\n",
       "      <th>0</th>\n",
       "      <td>19</td>\n",
       "      <td>female</td>\n",
       "      <td>27.900</td>\n",
       "      <td>0</td>\n",
       "      <td>yes</td>\n",
       "      <td>southwest</td>\n",
       "      <td>16884.92400</td>\n",
       "      <td>18-25</td>\n",
       "      <td>25-30</td>\n",
       "    </tr>\n",
       "    <tr>\n",
       "      <th>1</th>\n",
       "      <td>18</td>\n",
       "      <td>male</td>\n",
       "      <td>33.770</td>\n",
       "      <td>1</td>\n",
       "      <td>no</td>\n",
       "      <td>southeast</td>\n",
       "      <td>1725.55230</td>\n",
       "      <td>18-25</td>\n",
       "      <td>30-35</td>\n",
       "    </tr>\n",
       "    <tr>\n",
       "      <th>2</th>\n",
       "      <td>28</td>\n",
       "      <td>male</td>\n",
       "      <td>33.000</td>\n",
       "      <td>3</td>\n",
       "      <td>no</td>\n",
       "      <td>southeast</td>\n",
       "      <td>4449.46200</td>\n",
       "      <td>25-30</td>\n",
       "      <td>30-35</td>\n",
       "    </tr>\n",
       "    <tr>\n",
       "      <th>3</th>\n",
       "      <td>33</td>\n",
       "      <td>male</td>\n",
       "      <td>22.705</td>\n",
       "      <td>0</td>\n",
       "      <td>no</td>\n",
       "      <td>northwest</td>\n",
       "      <td>21984.47061</td>\n",
       "      <td>30-35</td>\n",
       "      <td>20-25</td>\n",
       "    </tr>\n",
       "    <tr>\n",
       "      <th>4</th>\n",
       "      <td>32</td>\n",
       "      <td>male</td>\n",
       "      <td>28.880</td>\n",
       "      <td>0</td>\n",
       "      <td>no</td>\n",
       "      <td>northwest</td>\n",
       "      <td>3866.85520</td>\n",
       "      <td>30-35</td>\n",
       "      <td>25-30</td>\n",
       "    </tr>\n",
       "  </tbody>\n",
       "</table>\n",
       "</div>"
      ],
      "text/plain": [
       "   age     sex     bmi  children smoker     region      charges age_group  \\\n",
       "0   19  female  27.900         0    yes  southwest  16884.92400     18-25   \n",
       "1   18    male  33.770         1     no  southeast   1725.55230     18-25   \n",
       "2   28    male  33.000         3     no  southeast   4449.46200     25-30   \n",
       "3   33    male  22.705         0     no  northwest  21984.47061     30-35   \n",
       "4   32    male  28.880         0     no  northwest   3866.85520     30-35   \n",
       "\n",
       "  bmi_group  \n",
       "0     25-30  \n",
       "1     30-35  \n",
       "2     30-35  \n",
       "3     20-25  \n",
       "4     25-30  "
      ]
     },
     "execution_count": 79,
     "metadata": {},
     "output_type": "execute_result"
    }
   ],
   "source": [
    "insurance.head()"
   ]
  },
  {
   "cell_type": "code",
   "execution_count": 80,
   "id": "8a93e193",
   "metadata": {
    "scrolled": true
   },
   "outputs": [
    {
     "data": {
      "text/html": [
       "<div>\n",
       "<style scoped>\n",
       "    .dataframe tbody tr th:only-of-type {\n",
       "        vertical-align: middle;\n",
       "    }\n",
       "\n",
       "    .dataframe tbody tr th {\n",
       "        vertical-align: top;\n",
       "    }\n",
       "\n",
       "    .dataframe thead th {\n",
       "        text-align: right;\n",
       "    }\n",
       "</style>\n",
       "<table border=\"1\" class=\"dataframe\">\n",
       "  <thead>\n",
       "    <tr style=\"text-align: right;\">\n",
       "      <th></th>\n",
       "      <th>age_group</th>\n",
       "      <th>18-25</th>\n",
       "      <th>25-30</th>\n",
       "      <th>30-35</th>\n",
       "      <th>35-40</th>\n",
       "      <th>40-45</th>\n",
       "      <th>45-50</th>\n",
       "      <th>50-55</th>\n",
       "      <th>55-60</th>\n",
       "      <th>60-65</th>\n",
       "    </tr>\n",
       "    <tr>\n",
       "      <th>smoker</th>\n",
       "      <th>bmi_group</th>\n",
       "      <th></th>\n",
       "      <th></th>\n",
       "      <th></th>\n",
       "      <th></th>\n",
       "      <th></th>\n",
       "      <th></th>\n",
       "      <th></th>\n",
       "      <th></th>\n",
       "      <th></th>\n",
       "    </tr>\n",
       "  </thead>\n",
       "  <tbody>\n",
       "    <tr>\n",
       "      <th rowspan=\"8\" valign=\"top\">no</th>\n",
       "      <th>15-20</th>\n",
       "      <td>4214.310539</td>\n",
       "      <td>4062.763970</td>\n",
       "      <td>5545.186800</td>\n",
       "      <td>6483.269775</td>\n",
       "      <td>NaN</td>\n",
       "      <td>8444.038838</td>\n",
       "      <td>9817.645075</td>\n",
       "      <td>12369.579150</td>\n",
       "      <td>NaN</td>\n",
       "    </tr>\n",
       "    <tr>\n",
       "      <th>20-25</th>\n",
       "      <td>4125.208680</td>\n",
       "      <td>4975.209758</td>\n",
       "      <td>8548.120096</td>\n",
       "      <td>7294.190125</td>\n",
       "      <td>8196.295083</td>\n",
       "      <td>10539.060761</td>\n",
       "      <td>11824.746511</td>\n",
       "      <td>12800.202020</td>\n",
       "      <td>15554.155808</td>\n",
       "    </tr>\n",
       "    <tr>\n",
       "      <th>25-30</th>\n",
       "      <td>3736.449927</td>\n",
       "      <td>5846.373004</td>\n",
       "      <td>5063.772028</td>\n",
       "      <td>6806.267892</td>\n",
       "      <td>9249.349554</td>\n",
       "      <td>11539.418707</td>\n",
       "      <td>13178.985215</td>\n",
       "      <td>13211.501559</td>\n",
       "      <td>15179.392040</td>\n",
       "    </tr>\n",
       "    <tr>\n",
       "      <th>30-35</th>\n",
       "      <td>4442.364640</td>\n",
       "      <td>6084.160322</td>\n",
       "      <td>5394.331312</td>\n",
       "      <td>7039.268493</td>\n",
       "      <td>7658.028495</td>\n",
       "      <td>10163.619209</td>\n",
       "      <td>12730.765245</td>\n",
       "      <td>13294.530223</td>\n",
       "      <td>15639.395652</td>\n",
       "    </tr>\n",
       "    <tr>\n",
       "      <th>35-40</th>\n",
       "      <td>3618.191813</td>\n",
       "      <td>5068.305488</td>\n",
       "      <td>7269.839999</td>\n",
       "      <td>8761.792966</td>\n",
       "      <td>8794.241778</td>\n",
       "      <td>11333.654017</td>\n",
       "      <td>13482.653305</td>\n",
       "      <td>13408.719445</td>\n",
       "      <td>15459.072756</td>\n",
       "    </tr>\n",
       "    <tr>\n",
       "      <th>40-45</th>\n",
       "      <td>3506.424583</td>\n",
       "      <td>3907.842938</td>\n",
       "      <td>5980.666946</td>\n",
       "      <td>9102.824299</td>\n",
       "      <td>6679.969075</td>\n",
       "      <td>9486.710863</td>\n",
       "      <td>10819.369150</td>\n",
       "      <td>14393.899619</td>\n",
       "      <td>13685.925250</td>\n",
       "    </tr>\n",
       "    <tr>\n",
       "      <th>40-50</th>\n",
       "      <td>NaN</td>\n",
       "      <td>3310.246350</td>\n",
       "      <td>4686.388700</td>\n",
       "      <td>6395.947200</td>\n",
       "      <td>NaN</td>\n",
       "      <td>8909.068000</td>\n",
       "      <td>11293.288700</td>\n",
       "      <td>11381.325400</td>\n",
       "      <td>NaN</td>\n",
       "    </tr>\n",
       "    <tr>\n",
       "      <th>50-55</th>\n",
       "      <td>1800.758950</td>\n",
       "      <td>NaN</td>\n",
       "      <td>NaN</td>\n",
       "      <td>NaN</td>\n",
       "      <td>NaN</td>\n",
       "      <td>NaN</td>\n",
       "      <td>NaN</td>\n",
       "      <td>NaN</td>\n",
       "      <td>NaN</td>\n",
       "    </tr>\n",
       "    <tr>\n",
       "      <th rowspan=\"8\" valign=\"top\">yes</th>\n",
       "      <th>15-20</th>\n",
       "      <td>12829.455100</td>\n",
       "      <td>14731.111750</td>\n",
       "      <td>24755.245175</td>\n",
       "      <td>17341.160333</td>\n",
       "      <td>NaN</td>\n",
       "      <td>NaN</td>\n",
       "      <td>NaN</td>\n",
       "      <td>22412.648500</td>\n",
       "      <td>NaN</td>\n",
       "    </tr>\n",
       "    <tr>\n",
       "      <th>20-25</th>\n",
       "      <td>16514.397039</td>\n",
       "      <td>17106.673311</td>\n",
       "      <td>18254.277283</td>\n",
       "      <td>19904.152633</td>\n",
       "      <td>21883.224036</td>\n",
       "      <td>22335.957267</td>\n",
       "      <td>23465.284364</td>\n",
       "      <td>25678.778450</td>\n",
       "      <td>26982.214250</td>\n",
       "    </tr>\n",
       "    <tr>\n",
       "      <th>25-30</th>\n",
       "      <td>18374.602288</td>\n",
       "      <td>18829.385967</td>\n",
       "      <td>19887.159933</td>\n",
       "      <td>20947.832521</td>\n",
       "      <td>27297.472314</td>\n",
       "      <td>23871.733532</td>\n",
       "      <td>24814.446133</td>\n",
       "      <td>27761.653975</td>\n",
       "      <td>29083.361512</td>\n",
       "    </tr>\n",
       "    <tr>\n",
       "      <th>30-35</th>\n",
       "      <td>34652.941597</td>\n",
       "      <td>35320.081180</td>\n",
       "      <td>38650.581950</td>\n",
       "      <td>38952.864425</td>\n",
       "      <td>43206.620806</td>\n",
       "      <td>41279.575529</td>\n",
       "      <td>46080.162728</td>\n",
       "      <td>45840.716765</td>\n",
       "      <td>46973.670383</td>\n",
       "    </tr>\n",
       "    <tr>\n",
       "      <th>35-40</th>\n",
       "      <td>37025.934933</td>\n",
       "      <td>40982.215487</td>\n",
       "      <td>46094.900474</td>\n",
       "      <td>40210.606700</td>\n",
       "      <td>43264.614585</td>\n",
       "      <td>42634.278060</td>\n",
       "      <td>45435.191075</td>\n",
       "      <td>47855.548933</td>\n",
       "      <td>47996.366008</td>\n",
       "    </tr>\n",
       "    <tr>\n",
       "      <th>40-45</th>\n",
       "      <td>39386.469450</td>\n",
       "      <td>39611.757700</td>\n",
       "      <td>NaN</td>\n",
       "      <td>43753.337050</td>\n",
       "      <td>45048.680700</td>\n",
       "      <td>45926.573425</td>\n",
       "      <td>47760.642117</td>\n",
       "      <td>48773.108033</td>\n",
       "      <td>NaN</td>\n",
       "    </tr>\n",
       "    <tr>\n",
       "      <th>40-50</th>\n",
       "      <td>42112.235600</td>\n",
       "      <td>NaN</td>\n",
       "      <td>NaN</td>\n",
       "      <td>46113.511000</td>\n",
       "      <td>45863.205000</td>\n",
       "      <td>NaN</td>\n",
       "      <td>63770.428010</td>\n",
       "      <td>NaN</td>\n",
       "      <td>NaN</td>\n",
       "    </tr>\n",
       "    <tr>\n",
       "      <th>50-55</th>\n",
       "      <td>44501.398200</td>\n",
       "      <td>NaN</td>\n",
       "      <td>NaN</td>\n",
       "      <td>NaN</td>\n",
       "      <td>NaN</td>\n",
       "      <td>NaN</td>\n",
       "      <td>NaN</td>\n",
       "      <td>NaN</td>\n",
       "      <td>NaN</td>\n",
       "    </tr>\n",
       "  </tbody>\n",
       "</table>\n",
       "</div>"
      ],
      "text/plain": [
       "age_group                18-25         25-30         30-35         35-40  \\\n",
       "smoker bmi_group                                                           \n",
       "no     15-20       4214.310539   4062.763970   5545.186800   6483.269775   \n",
       "       20-25       4125.208680   4975.209758   8548.120096   7294.190125   \n",
       "       25-30       3736.449927   5846.373004   5063.772028   6806.267892   \n",
       "       30-35       4442.364640   6084.160322   5394.331312   7039.268493   \n",
       "       35-40       3618.191813   5068.305488   7269.839999   8761.792966   \n",
       "       40-45       3506.424583   3907.842938   5980.666946   9102.824299   \n",
       "       40-50               NaN   3310.246350   4686.388700   6395.947200   \n",
       "       50-55       1800.758950           NaN           NaN           NaN   \n",
       "yes    15-20      12829.455100  14731.111750  24755.245175  17341.160333   \n",
       "       20-25      16514.397039  17106.673311  18254.277283  19904.152633   \n",
       "       25-30      18374.602288  18829.385967  19887.159933  20947.832521   \n",
       "       30-35      34652.941597  35320.081180  38650.581950  38952.864425   \n",
       "       35-40      37025.934933  40982.215487  46094.900474  40210.606700   \n",
       "       40-45      39386.469450  39611.757700           NaN  43753.337050   \n",
       "       40-50      42112.235600           NaN           NaN  46113.511000   \n",
       "       50-55      44501.398200           NaN           NaN           NaN   \n",
       "\n",
       "age_group                40-45         45-50         50-55         55-60  \\\n",
       "smoker bmi_group                                                           \n",
       "no     15-20               NaN   8444.038838   9817.645075  12369.579150   \n",
       "       20-25       8196.295083  10539.060761  11824.746511  12800.202020   \n",
       "       25-30       9249.349554  11539.418707  13178.985215  13211.501559   \n",
       "       30-35       7658.028495  10163.619209  12730.765245  13294.530223   \n",
       "       35-40       8794.241778  11333.654017  13482.653305  13408.719445   \n",
       "       40-45       6679.969075   9486.710863  10819.369150  14393.899619   \n",
       "       40-50               NaN   8909.068000  11293.288700  11381.325400   \n",
       "       50-55               NaN           NaN           NaN           NaN   \n",
       "yes    15-20               NaN           NaN           NaN  22412.648500   \n",
       "       20-25      21883.224036  22335.957267  23465.284364  25678.778450   \n",
       "       25-30      27297.472314  23871.733532  24814.446133  27761.653975   \n",
       "       30-35      43206.620806  41279.575529  46080.162728  45840.716765   \n",
       "       35-40      43264.614585  42634.278060  45435.191075  47855.548933   \n",
       "       40-45      45048.680700  45926.573425  47760.642117  48773.108033   \n",
       "       40-50      45863.205000           NaN  63770.428010           NaN   \n",
       "       50-55               NaN           NaN           NaN           NaN   \n",
       "\n",
       "age_group                60-65  \n",
       "smoker bmi_group                \n",
       "no     15-20               NaN  \n",
       "       20-25      15554.155808  \n",
       "       25-30      15179.392040  \n",
       "       30-35      15639.395652  \n",
       "       35-40      15459.072756  \n",
       "       40-45      13685.925250  \n",
       "       40-50               NaN  \n",
       "       50-55               NaN  \n",
       "yes    15-20               NaN  \n",
       "       20-25      26982.214250  \n",
       "       25-30      29083.361512  \n",
       "       30-35      46973.670383  \n",
       "       35-40      47996.366008  \n",
       "       40-45               NaN  \n",
       "       40-50               NaN  \n",
       "       50-55               NaN  "
      ]
     },
     "execution_count": 80,
     "metadata": {},
     "output_type": "execute_result"
    }
   ],
   "source": [
    "\n",
    "insurance.pivot_table('charges', index=['smoker', 'bmi_group'], columns='age_group', aggfunc=np.mean)\n"
   ]
  },
  {
   "cell_type": "markdown",
   "id": "8d7a16c6",
   "metadata": {},
   "source": [
    "## DATA VISUALISATION ##"
   ]
  },
  {
   "cell_type": "code",
   "execution_count": 81,
   "id": "0a771842",
   "metadata": {},
   "outputs": [
    {
     "data": {
      "text/plain": [
       "<AxesSubplot:xlabel='children', ylabel='count'>"
      ]
     },
     "execution_count": 81,
     "metadata": {},
     "output_type": "execute_result"
    },
    {
     "data": {
      "image/png": "[encoded data removed]",
      "text/plain": [
       "<Figure size 576x288 with 1 Axes>"
      ]
     },
     "metadata": {
      "needs_background": "light"
     },
     "output_type": "display_data"
    }
   ],
   "source": [
    "#NUMBER OF CHILDREN\n",
    "plt.figure(figsize=(8,4))\n",
    "sns.countplot(x=\"children\",data = insurance)\n"
   ]
  },
  {
   "cell_type": "code",
   "execution_count": 82,
   "id": "92e158c3",
   "metadata": {},
   "outputs": [
    {
     "data": {
      "text/plain": [
       "<seaborn.axisgrid.FacetGrid at 0x20e97b57a30>"
      ]
     },
     "execution_count": 82,
     "metadata": {},
     "output_type": "execute_result"
    },
    {
     "data": {
      "text/plain": [
       "<Figure size 144x216 with 0 Axes>"
      ]
     },
     "metadata": {},
     "output_type": "display_data"
    },
    {
     "data": {
      "image/png": "[encoded data removed]",
      "text/plain": [
       "<Figure size 360x360 with 1 Axes>"
      ]
     },
     "metadata": {
      "needs_background": "light"
     },
     "output_type": "display_data"
    }
   ],
   "source": [
    "\n",
    "plt.figure(figsize=(2,3))\n",
    "sns.relplot(x = 'bmi',y = 'charges',data= insurance,kind= 'scatter')"
   ]
  },
  {
   "cell_type": "code",
   "execution_count": 83,
   "id": "15b2bbd6",
   "metadata": {
    "scrolled": true
   },
   "outputs": [
    {
     "data": {
      "text/plain": [
       "<seaborn.axisgrid.FacetGrid at 0x20e97b5ee20>"
      ]
     },
     "execution_count": 83,
     "metadata": {},
     "output_type": "execute_result"
    },
    {
     "data": {
      "text/plain": [
       "<Figure size 1440x2160 with 0 Axes>"
      ]
     },
     "metadata": {},
     "output_type": "display_data"
    },
    {
     "data": {
      "image/png": "[encoded data removed]",
      "text/plain": [
       "<Figure size 408.375x360 with 1 Axes>"
      ]
     },
     "metadata": {
      "needs_background": "light"
     },
     "output_type": "display_data"
    }
   ],
   "source": [
    "plt.figure(figsize=(20,30))\n",
    "sns.catplot(x = 'age_group',y = 'charges',data= insurance,kind= 'swarm',hue=\"children\")"
   ]
  },
  {
   "cell_type": "markdown",
   "id": "8a75c1e4",
   "metadata": {},
   "source": [
    "**There doesnt seem to be a definite relationship of charges with age and children**"
   ]
  },
  {
   "cell_type": "code",
   "execution_count": 84,
   "id": "5623a518",
   "metadata": {},
   "outputs": [
    {
     "data": {
      "text/plain": [
       "<seaborn.axisgrid.FacetGrid at 0x20e97ba1a60>"
      ]
     },
     "execution_count": 84,
     "metadata": {},
     "output_type": "execute_result"
    },
    {
     "data": {
      "image/png": "[encoded data removed]",
      "text/plain": [
       "<Figure size 360x360 with 1 Axes>"
      ]
     },
     "metadata": {
      "needs_background": "light"
     },
     "output_type": "display_data"
    }
   ],
   "source": [
    "sns.catplot(x = 'bmi_group',y = 'charges',data= insurance,kind= 'bar')"
   ]
  },
  {
   "cell_type": "markdown",
   "id": "de976a3f",
   "metadata": {},
   "source": [
    "**A increase in charges is notices with larger bmi but lower for older ages (50-55)**"
   ]
  },
  {
   "cell_type": "code",
   "execution_count": 85,
   "id": "45fcefd6",
   "metadata": {},
   "outputs": [
    {
     "data": {
      "text/plain": [
       "<seaborn.axisgrid.FacetGrid at 0x20e94db5910>"
      ]
     },
     "execution_count": 85,
     "metadata": {},
     "output_type": "execute_result"
    },
    {
     "data": {
      "text/plain": [
       "<Figure size 288x144 with 0 Axes>"
      ]
     },
     "metadata": {},
     "output_type": "display_data"
    },
    {
     "data": {
      "image/png": "[encoded data removed]",
      "text/plain": [
       "<Figure size 413.25x360 with 1 Axes>"
      ]
     },
     "metadata": {
      "needs_background": "light"
     },
     "output_type": "display_data"
    }
   ],
   "source": [
    "plt.figure(figsize=(4,2))\n",
    "sns.catplot(x = 'age_group',y = 'charges',data= insurance,kind= 'swarm',hue='smoker')"
   ]
  },
  {
   "cell_type": "markdown",
   "id": "081400cd",
   "metadata": {},
   "source": [
    "**smoking have high impact on charges across all age groups as seen in both swarm and bar plot**"
   ]
  },
  {
   "cell_type": "code",
   "execution_count": 86,
   "id": "83f56c86",
   "metadata": {
    "scrolled": true
   },
   "outputs": [
    {
     "data": {
      "text/plain": [
       "<seaborn.axisgrid.FacetGrid at 0x20e97c9ddf0>"
      ]
     },
     "execution_count": 86,
     "metadata": {},
     "output_type": "execute_result"
    },
    {
     "data": {
      "image/png": "[encoded data removed]",
      "text/plain": [
       "<Figure size 413.25x360 with 1 Axes>"
      ]
     },
     "metadata": {
      "needs_background": "light"
     },
     "output_type": "display_data"
    }
   ],
   "source": [
    "sns.catplot(data=insurance, kind=\"bar\", x=\"age_group\", y=\"charges\", hue=\"smoker\")"
   ]
  },
  {
   "cell_type": "code",
   "execution_count": null,
   "id": "135f586a",
   "metadata": {},
   "outputs": [],
   "source": []
  },
  {
   "cell_type": "code",
   "execution_count": 87,
   "id": "3abb96ca",
   "metadata": {},
   "outputs": [
    {
     "data": {
      "text/plain": [
       "<seaborn.axisgrid.FacetGrid at 0x20e97c36850>"
      ]
     },
     "execution_count": 87,
     "metadata": {},
     "output_type": "execute_result"
    },
    {
     "data": {
      "image/png": "[encoded data removed]",
      "text/plain": [
       "<Figure size 360x360 with 1 Axes>"
      ]
     },
     "metadata": {
      "needs_background": "light"
     },
     "output_type": "display_data"
    }
   ],
   "source": [
    "sns.catplot(data=insurance,y=\"charges\",x=\"sex\",kind = \"bar\")"
   ]
  },
  {
   "cell_type": "code",
   "execution_count": 88,
   "id": "ae500cdf",
   "metadata": {},
   "outputs": [
    {
     "data": {
      "text/plain": [
       "male      676\n",
       "female    662\n",
       "Name: sex, dtype: int64"
      ]
     },
     "execution_count": 88,
     "metadata": {},
     "output_type": "execute_result"
    }
   ],
   "source": [
    "insurance['sex'].value_counts()"
   ]
  },
  {
   "cell_type": "markdown",
   "id": "4abbd1ff",
   "metadata": {},
   "source": [
    "**There doesnt seems to be a large change in charge with age**"
   ]
  },
  {
   "cell_type": "code",
   "execution_count": 89,
   "id": "d5a50071",
   "metadata": {},
   "outputs": [],
   "source": [
    "insurance.drop(['region','sex','age','bmi','children'],axis =1, inplace=True)"
   ]
  },
  {
   "cell_type": "markdown",
   "id": "b1b55973",
   "metadata": {},
   "source": [
    "#### The highhly correlated features of age, bmi and smoker are taken for finding linear regression ####"
   ]
  },
  {
   "cell_type": "code",
   "execution_count": null,
   "id": "800d5ced",
   "metadata": {},
   "outputs": [],
   "source": []
  },
  {
   "cell_type": "code",
   "execution_count": 90,
   "id": "28474dd1",
   "metadata": {},
   "outputs": [],
   "source": [
    "#converting categorical to numerical\n",
    "insur = pd.get_dummies(insurance)"
   ]
  },
  {
   "cell_type": "code",
   "execution_count": 91,
   "id": "d342a797",
   "metadata": {
    "scrolled": true
   },
   "outputs": [
    {
     "data": {
      "text/html": [
       "<div>\n",
       "<style scoped>\n",
       "    .dataframe tbody tr th:only-of-type {\n",
       "        vertical-align: middle;\n",
       "    }\n",
       "\n",
       "    .dataframe tbody tr th {\n",
       "        vertical-align: top;\n",
       "    }\n",
       "\n",
       "    .dataframe thead th {\n",
       "        text-align: right;\n",
       "    }\n",
       "</style>\n",
       "<table border=\"1\" class=\"dataframe\">\n",
       "  <thead>\n",
       "    <tr style=\"text-align: right;\">\n",
       "      <th></th>\n",
       "      <th>charges</th>\n",
       "      <th>smoker_no</th>\n",
       "      <th>smoker_yes</th>\n",
       "      <th>age_group_18-25</th>\n",
       "      <th>age_group_25-30</th>\n",
       "      <th>age_group_30-35</th>\n",
       "      <th>age_group_35-40</th>\n",
       "      <th>age_group_40-45</th>\n",
       "      <th>age_group_45-50</th>\n",
       "      <th>age_group_50-55</th>\n",
       "      <th>age_group_55-60</th>\n",
       "      <th>age_group_60-65</th>\n",
       "      <th>bmi_group_15-20</th>\n",
       "      <th>bmi_group_20-25</th>\n",
       "      <th>bmi_group_25-30</th>\n",
       "      <th>bmi_group_30-35</th>\n",
       "      <th>bmi_group_35-40</th>\n",
       "      <th>bmi_group_40-45</th>\n",
       "      <th>bmi_group_40-50</th>\n",
       "      <th>bmi_group_50-55</th>\n",
       "    </tr>\n",
       "  </thead>\n",
       "  <tbody>\n",
       "    <tr>\n",
       "      <th>charges</th>\n",
       "      <td>1.000000</td>\n",
       "      <td>-0.787251</td>\n",
       "      <td>0.787251</td>\n",
       "      <td>-0.188178</td>\n",
       "      <td>-0.089203</td>\n",
       "      <td>-0.063441</td>\n",
       "      <td>-0.024194</td>\n",
       "      <td>0.035384</td>\n",
       "      <td>0.050008</td>\n",
       "      <td>0.104982</td>\n",
       "      <td>0.102760</td>\n",
       "      <td>0.173898</td>\n",
       "      <td>-0.065092</td>\n",
       "      <td>-0.095090</td>\n",
       "      <td>-0.119542</td>\n",
       "      <td>0.061297</td>\n",
       "      <td>0.139349</td>\n",
       "      <td>0.064516</td>\n",
       "      <td>0.042588</td>\n",
       "      <td>0.010823</td>\n",
       "    </tr>\n",
       "    <tr>\n",
       "      <th>smoker_no</th>\n",
       "      <td>-0.787251</td>\n",
       "      <td>1.000000</td>\n",
       "      <td>-1.000000</td>\n",
       "      <td>-0.010302</td>\n",
       "      <td>-0.010595</td>\n",
       "      <td>0.003888</td>\n",
       "      <td>-0.012590</td>\n",
       "      <td>-0.030208</td>\n",
       "      <td>0.008897</td>\n",
       "      <td>0.028255</td>\n",
       "      <td>0.048352</td>\n",
       "      <td>-0.024752</td>\n",
       "      <td>-0.006489</td>\n",
       "      <td>-0.019575</td>\n",
       "      <td>0.016541</td>\n",
       "      <td>0.027166</td>\n",
       "      <td>-0.019430</td>\n",
       "      <td>-0.012066</td>\n",
       "      <td>-0.008577</td>\n",
       "      <td>-0.015101</td>\n",
       "    </tr>\n",
       "    <tr>\n",
       "      <th>smoker_yes</th>\n",
       "      <td>0.787251</td>\n",
       "      <td>-1.000000</td>\n",
       "      <td>1.000000</td>\n",
       "      <td>0.010302</td>\n",
       "      <td>0.010595</td>\n",
       "      <td>-0.003888</td>\n",
       "      <td>0.012590</td>\n",
       "      <td>0.030208</td>\n",
       "      <td>-0.008897</td>\n",
       "      <td>-0.028255</td>\n",
       "      <td>-0.048352</td>\n",
       "      <td>0.024752</td>\n",
       "      <td>0.006489</td>\n",
       "      <td>0.019575</td>\n",
       "      <td>-0.016541</td>\n",
       "      <td>-0.027166</td>\n",
       "      <td>0.019430</td>\n",
       "      <td>0.012066</td>\n",
       "      <td>0.008577</td>\n",
       "      <td>0.015101</td>\n",
       "    </tr>\n",
       "    <tr>\n",
       "      <th>age_group_18-25</th>\n",
       "      <td>-0.188178</td>\n",
       "      <td>-0.010302</td>\n",
       "      <td>0.010302</td>\n",
       "      <td>1.000000</td>\n",
       "      <td>-0.184659</td>\n",
       "      <td>-0.178632</td>\n",
       "      <td>-0.176340</td>\n",
       "      <td>-0.183912</td>\n",
       "      <td>-0.189104</td>\n",
       "      <td>-0.186147</td>\n",
       "      <td>-0.174802</td>\n",
       "      <td>-0.147099</td>\n",
       "      <td>0.016761</td>\n",
       "      <td>0.053684</td>\n",
       "      <td>-0.020731</td>\n",
       "      <td>0.015816</td>\n",
       "      <td>-0.040240</td>\n",
       "      <td>-0.017764</td>\n",
       "      <td>-0.045884</td>\n",
       "      <td>0.087056</td>\n",
       "    </tr>\n",
       "    <tr>\n",
       "      <th>age_group_25-30</th>\n",
       "      <td>-0.089203</td>\n",
       "      <td>-0.010595</td>\n",
       "      <td>0.010595</td>\n",
       "      <td>-0.184659</td>\n",
       "      <td>1.000000</td>\n",
       "      <td>-0.111247</td>\n",
       "      <td>-0.109819</td>\n",
       "      <td>-0.114535</td>\n",
       "      <td>-0.117768</td>\n",
       "      <td>-0.115927</td>\n",
       "      <td>-0.108861</td>\n",
       "      <td>-0.091609</td>\n",
       "      <td>0.039514</td>\n",
       "      <td>0.045982</td>\n",
       "      <td>0.001022</td>\n",
       "      <td>-0.011478</td>\n",
       "      <td>-0.034207</td>\n",
       "      <td>-0.025464</td>\n",
       "      <td>0.005411</td>\n",
       "      <td>-0.016076</td>\n",
       "    </tr>\n",
       "    <tr>\n",
       "      <th>age_group_30-35</th>\n",
       "      <td>-0.063441</td>\n",
       "      <td>0.003888</td>\n",
       "      <td>-0.003888</td>\n",
       "      <td>-0.178632</td>\n",
       "      <td>-0.111247</td>\n",
       "      <td>1.000000</td>\n",
       "      <td>-0.106235</td>\n",
       "      <td>-0.110797</td>\n",
       "      <td>-0.113925</td>\n",
       "      <td>-0.112143</td>\n",
       "      <td>-0.105308</td>\n",
       "      <td>-0.088619</td>\n",
       "      <td>0.014882</td>\n",
       "      <td>-0.021080</td>\n",
       "      <td>0.019473</td>\n",
       "      <td>-0.026647</td>\n",
       "      <td>0.021179</td>\n",
       "      <td>0.012402</td>\n",
       "      <td>-0.014684</td>\n",
       "      <td>-0.015551</td>\n",
       "    </tr>\n",
       "    <tr>\n",
       "      <th>age_group_35-40</th>\n",
       "      <td>-0.024194</td>\n",
       "      <td>-0.012590</td>\n",
       "      <td>0.012590</td>\n",
       "      <td>-0.176340</td>\n",
       "      <td>-0.109819</td>\n",
       "      <td>-0.106235</td>\n",
       "      <td>1.000000</td>\n",
       "      <td>-0.109375</td>\n",
       "      <td>-0.112463</td>\n",
       "      <td>-0.110705</td>\n",
       "      <td>-0.103957</td>\n",
       "      <td>-0.087482</td>\n",
       "      <td>0.075579</td>\n",
       "      <td>-0.018038</td>\n",
       "      <td>0.058318</td>\n",
       "      <td>-0.022029</td>\n",
       "      <td>-0.077426</td>\n",
       "      <td>0.014342</td>\n",
       "      <td>0.031564</td>\n",
       "      <td>-0.015351</td>\n",
       "    </tr>\n",
       "    <tr>\n",
       "      <th>age_group_40-45</th>\n",
       "      <td>0.035384</td>\n",
       "      <td>-0.030208</td>\n",
       "      <td>0.030208</td>\n",
       "      <td>-0.183912</td>\n",
       "      <td>-0.114535</td>\n",
       "      <td>-0.110797</td>\n",
       "      <td>-0.109375</td>\n",
       "      <td>1.000000</td>\n",
       "      <td>-0.117292</td>\n",
       "      <td>-0.115458</td>\n",
       "      <td>-0.108421</td>\n",
       "      <td>-0.091238</td>\n",
       "      <td>-0.060050</td>\n",
       "      <td>0.019859</td>\n",
       "      <td>0.002595</td>\n",
       "      <td>0.000921</td>\n",
       "      <td>0.032706</td>\n",
       "      <td>-0.035961</td>\n",
       "      <td>-0.016303</td>\n",
       "      <td>-0.016011</td>\n",
       "    </tr>\n",
       "    <tr>\n",
       "      <th>age_group_45-50</th>\n",
       "      <td>0.050008</td>\n",
       "      <td>0.008897</td>\n",
       "      <td>-0.008897</td>\n",
       "      <td>-0.189104</td>\n",
       "      <td>-0.117768</td>\n",
       "      <td>-0.113925</td>\n",
       "      <td>-0.112463</td>\n",
       "      <td>-0.117292</td>\n",
       "      <td>1.000000</td>\n",
       "      <td>-0.118717</td>\n",
       "      <td>-0.111482</td>\n",
       "      <td>-0.093814</td>\n",
       "      <td>-0.005773</td>\n",
       "      <td>-0.054596</td>\n",
       "      <td>0.050342</td>\n",
       "      <td>-0.004596</td>\n",
       "      <td>-0.027180</td>\n",
       "      <td>0.025377</td>\n",
       "      <td>0.046734</td>\n",
       "      <td>-0.016463</td>\n",
       "    </tr>\n",
       "    <tr>\n",
       "      <th>age_group_50-55</th>\n",
       "      <td>0.104982</td>\n",
       "      <td>0.028255</td>\n",
       "      <td>-0.028255</td>\n",
       "      <td>-0.186147</td>\n",
       "      <td>-0.115927</td>\n",
       "      <td>-0.112143</td>\n",
       "      <td>-0.110705</td>\n",
       "      <td>-0.115458</td>\n",
       "      <td>-0.118717</td>\n",
       "      <td>1.000000</td>\n",
       "      <td>-0.109739</td>\n",
       "      <td>-0.092347</td>\n",
       "      <td>-0.032444</td>\n",
       "      <td>0.009779</td>\n",
       "      <td>-0.077548</td>\n",
       "      <td>0.039240</td>\n",
       "      <td>0.042158</td>\n",
       "      <td>-0.004673</td>\n",
       "      <td>0.048426</td>\n",
       "      <td>-0.016205</td>\n",
       "    </tr>\n",
       "    <tr>\n",
       "      <th>age_group_55-60</th>\n",
       "      <td>0.102760</td>\n",
       "      <td>0.048352</td>\n",
       "      <td>-0.048352</td>\n",
       "      <td>-0.174802</td>\n",
       "      <td>-0.108861</td>\n",
       "      <td>-0.105308</td>\n",
       "      <td>-0.103957</td>\n",
       "      <td>-0.108421</td>\n",
       "      <td>-0.111482</td>\n",
       "      <td>-0.109739</td>\n",
       "      <td>1.000000</td>\n",
       "      <td>-0.086719</td>\n",
       "      <td>-0.012373</td>\n",
       "      <td>-0.037323</td>\n",
       "      <td>0.027994</td>\n",
       "      <td>-0.013242</td>\n",
       "      <td>0.006728</td>\n",
       "      <td>0.038574</td>\n",
       "      <td>-0.013487</td>\n",
       "      <td>-0.015218</td>\n",
       "    </tr>\n",
       "    <tr>\n",
       "      <th>age_group_60-65</th>\n",
       "      <td>0.173898</td>\n",
       "      <td>-0.024752</td>\n",
       "      <td>0.024752</td>\n",
       "      <td>-0.147099</td>\n",
       "      <td>-0.091609</td>\n",
       "      <td>-0.088619</td>\n",
       "      <td>-0.087482</td>\n",
       "      <td>-0.091238</td>\n",
       "      <td>-0.093814</td>\n",
       "      <td>-0.092347</td>\n",
       "      <td>-0.086719</td>\n",
       "      <td>1.000000</td>\n",
       "      <td>-0.048030</td>\n",
       "      <td>-0.024762</td>\n",
       "      <td>-0.060625</td>\n",
       "      <td>0.016626</td>\n",
       "      <td>0.108717</td>\n",
       "      <td>0.002267</td>\n",
       "      <td>-0.030645</td>\n",
       "      <td>-0.012806</td>\n",
       "    </tr>\n",
       "    <tr>\n",
       "      <th>bmi_group_15-20</th>\n",
       "      <td>-0.065092</td>\n",
       "      <td>-0.006489</td>\n",
       "      <td>0.006489</td>\n",
       "      <td>0.016761</td>\n",
       "      <td>0.039514</td>\n",
       "      <td>0.014882</td>\n",
       "      <td>0.075579</td>\n",
       "      <td>-0.060050</td>\n",
       "      <td>-0.005773</td>\n",
       "      <td>-0.032444</td>\n",
       "      <td>-0.012373</td>\n",
       "      <td>-0.048030</td>\n",
       "      <td>1.000000</td>\n",
       "      <td>-0.075846</td>\n",
       "      <td>-0.113213</td>\n",
       "      <td>-0.113832</td>\n",
       "      <td>-0.079940</td>\n",
       "      <td>-0.042088</td>\n",
       "      <td>-0.020169</td>\n",
       "      <td>-0.008428</td>\n",
       "    </tr>\n",
       "    <tr>\n",
       "      <th>bmi_group_20-25</th>\n",
       "      <td>-0.095090</td>\n",
       "      <td>-0.019575</td>\n",
       "      <td>0.019575</td>\n",
       "      <td>0.053684</td>\n",
       "      <td>0.045982</td>\n",
       "      <td>-0.021080</td>\n",
       "      <td>-0.018038</td>\n",
       "      <td>0.019859</td>\n",
       "      <td>-0.054596</td>\n",
       "      <td>0.009779</td>\n",
       "      <td>-0.037323</td>\n",
       "      <td>-0.024762</td>\n",
       "      <td>-0.075846</td>\n",
       "      <td>1.000000</td>\n",
       "      <td>-0.271635</td>\n",
       "      <td>-0.273119</td>\n",
       "      <td>-0.191802</td>\n",
       "      <td>-0.100984</td>\n",
       "      <td>-0.048393</td>\n",
       "      <td>-0.020222</td>\n",
       "    </tr>\n",
       "    <tr>\n",
       "      <th>bmi_group_25-30</th>\n",
       "      <td>-0.119542</td>\n",
       "      <td>0.016541</td>\n",
       "      <td>-0.016541</td>\n",
       "      <td>-0.020731</td>\n",
       "      <td>0.001022</td>\n",
       "      <td>0.019473</td>\n",
       "      <td>0.058318</td>\n",
       "      <td>0.002595</td>\n",
       "      <td>0.050342</td>\n",
       "      <td>-0.077548</td>\n",
       "      <td>0.027994</td>\n",
       "      <td>-0.060625</td>\n",
       "      <td>-0.113213</td>\n",
       "      <td>-0.271635</td>\n",
       "      <td>1.000000</td>\n",
       "      <td>-0.407678</td>\n",
       "      <td>-0.286298</td>\n",
       "      <td>-0.150736</td>\n",
       "      <td>-0.072235</td>\n",
       "      <td>-0.030185</td>\n",
       "    </tr>\n",
       "    <tr>\n",
       "      <th>bmi_group_30-35</th>\n",
       "      <td>0.061297</td>\n",
       "      <td>0.027166</td>\n",
       "      <td>-0.027166</td>\n",
       "      <td>0.015816</td>\n",
       "      <td>-0.011478</td>\n",
       "      <td>-0.026647</td>\n",
       "      <td>-0.022029</td>\n",
       "      <td>0.000921</td>\n",
       "      <td>-0.004596</td>\n",
       "      <td>0.039240</td>\n",
       "      <td>-0.013242</td>\n",
       "      <td>0.016626</td>\n",
       "      <td>-0.113832</td>\n",
       "      <td>-0.273119</td>\n",
       "      <td>-0.407678</td>\n",
       "      <td>1.000000</td>\n",
       "      <td>-0.287863</td>\n",
       "      <td>-0.151559</td>\n",
       "      <td>-0.072630</td>\n",
       "      <td>-0.030350</td>\n",
       "    </tr>\n",
       "    <tr>\n",
       "      <th>bmi_group_35-40</th>\n",
       "      <td>0.139349</td>\n",
       "      <td>-0.019430</td>\n",
       "      <td>0.019430</td>\n",
       "      <td>-0.040240</td>\n",
       "      <td>-0.034207</td>\n",
       "      <td>0.021179</td>\n",
       "      <td>-0.077426</td>\n",
       "      <td>0.032706</td>\n",
       "      <td>-0.027180</td>\n",
       "      <td>0.042158</td>\n",
       "      <td>0.006728</td>\n",
       "      <td>0.108717</td>\n",
       "      <td>-0.079940</td>\n",
       "      <td>-0.191802</td>\n",
       "      <td>-0.286298</td>\n",
       "      <td>-0.287863</td>\n",
       "      <td>1.000000</td>\n",
       "      <td>-0.106435</td>\n",
       "      <td>-0.051005</td>\n",
       "      <td>-0.021314</td>\n",
       "    </tr>\n",
       "    <tr>\n",
       "      <th>bmi_group_40-45</th>\n",
       "      <td>0.064516</td>\n",
       "      <td>-0.012066</td>\n",
       "      <td>0.012066</td>\n",
       "      <td>-0.017764</td>\n",
       "      <td>-0.025464</td>\n",
       "      <td>0.012402</td>\n",
       "      <td>0.014342</td>\n",
       "      <td>-0.035961</td>\n",
       "      <td>0.025377</td>\n",
       "      <td>-0.004673</td>\n",
       "      <td>0.038574</td>\n",
       "      <td>0.002267</td>\n",
       "      <td>-0.042088</td>\n",
       "      <td>-0.100984</td>\n",
       "      <td>-0.150736</td>\n",
       "      <td>-0.151559</td>\n",
       "      <td>-0.106435</td>\n",
       "      <td>1.000000</td>\n",
       "      <td>-0.026854</td>\n",
       "      <td>-0.011222</td>\n",
       "    </tr>\n",
       "    <tr>\n",
       "      <th>bmi_group_40-50</th>\n",
       "      <td>0.042588</td>\n",
       "      <td>-0.008577</td>\n",
       "      <td>0.008577</td>\n",
       "      <td>-0.045884</td>\n",
       "      <td>0.005411</td>\n",
       "      <td>-0.014684</td>\n",
       "      <td>0.031564</td>\n",
       "      <td>-0.016303</td>\n",
       "      <td>0.046734</td>\n",
       "      <td>0.048426</td>\n",
       "      <td>-0.013487</td>\n",
       "      <td>-0.030645</td>\n",
       "      <td>-0.020169</td>\n",
       "      <td>-0.048393</td>\n",
       "      <td>-0.072235</td>\n",
       "      <td>-0.072630</td>\n",
       "      <td>-0.051005</td>\n",
       "      <td>-0.026854</td>\n",
       "      <td>1.000000</td>\n",
       "      <td>-0.005378</td>\n",
       "    </tr>\n",
       "    <tr>\n",
       "      <th>bmi_group_50-55</th>\n",
       "      <td>0.010823</td>\n",
       "      <td>-0.015101</td>\n",
       "      <td>0.015101</td>\n",
       "      <td>0.087056</td>\n",
       "      <td>-0.016076</td>\n",
       "      <td>-0.015551</td>\n",
       "      <td>-0.015351</td>\n",
       "      <td>-0.016011</td>\n",
       "      <td>-0.016463</td>\n",
       "      <td>-0.016205</td>\n",
       "      <td>-0.015218</td>\n",
       "      <td>-0.012806</td>\n",
       "      <td>-0.008428</td>\n",
       "      <td>-0.020222</td>\n",
       "      <td>-0.030185</td>\n",
       "      <td>-0.030350</td>\n",
       "      <td>-0.021314</td>\n",
       "      <td>-0.011222</td>\n",
       "      <td>-0.005378</td>\n",
       "      <td>1.000000</td>\n",
       "    </tr>\n",
       "  </tbody>\n",
       "</table>\n",
       "</div>"
      ],
      "text/plain": [
       "                  charges  smoker_no  smoker_yes  age_group_18-25  \\\n",
       "charges          1.000000  -0.787251    0.787251        -0.188178   \n",
       "smoker_no       -0.787251   1.000000   -1.000000        -0.010302   \n",
       "smoker_yes       0.787251  -1.000000    1.000000         0.010302   \n",
       "age_group_18-25 -0.188178  -0.010302    0.010302         1.000000   \n",
       "age_group_25-30 -0.089203  -0.010595    0.010595        -0.184659   \n",
       "age_group_30-35 -0.063441   0.003888   -0.003888        -0.178632   \n",
       "age_group_35-40 -0.024194  -0.012590    0.012590        -0.176340   \n",
       "age_group_40-45  0.035384  -0.030208    0.030208        -0.183912   \n",
       "age_group_45-50  0.050008   0.008897   -0.008897        -0.189104   \n",
       "age_group_50-55  0.104982   0.028255   -0.028255        -0.186147   \n",
       "age_group_55-60  0.102760   0.048352   -0.048352        -0.174802   \n",
       "age_group_60-65  0.173898  -0.024752    0.024752        -0.147099   \n",
       "bmi_group_15-20 -0.065092  -0.006489    0.006489         0.016761   \n",
       "bmi_group_20-25 -0.095090  -0.019575    0.019575         0.053684   \n",
       "bmi_group_25-30 -0.119542   0.016541   -0.016541        -0.020731   \n",
       "bmi_group_30-35  0.061297   0.027166   -0.027166         0.015816   \n",
       "bmi_group_35-40  0.139349  -0.019430    0.019430        -0.040240   \n",
       "bmi_group_40-45  0.064516  -0.012066    0.012066        -0.017764   \n",
       "bmi_group_40-50  0.042588  -0.008577    0.008577        -0.045884   \n",
       "bmi_group_50-55  0.010823  -0.015101    0.015101         0.087056   \n",
       "\n",
       "                 age_group_25-30  age_group_30-35  age_group_35-40  \\\n",
       "charges                -0.089203        -0.063441        -0.024194   \n",
       "smoker_no              -0.010595         0.003888        -0.012590   \n",
       "smoker_yes              0.010595        -0.003888         0.012590   \n",
       "age_group_18-25        -0.184659        -0.178632        -0.176340   \n",
       "age_group_25-30         1.000000        -0.111247        -0.109819   \n",
       "age_group_30-35        -0.111247         1.000000        -0.106235   \n",
       "age_group_35-40        -0.109819        -0.106235         1.000000   \n",
       "age_group_40-45        -0.114535        -0.110797        -0.109375   \n",
       "age_group_45-50        -0.117768        -0.113925        -0.112463   \n",
       "age_group_50-55        -0.115927        -0.112143        -0.110705   \n",
       "age_group_55-60        -0.108861        -0.105308        -0.103957   \n",
       "age_group_60-65        -0.091609        -0.088619        -0.087482   \n",
       "bmi_group_15-20         0.039514         0.014882         0.075579   \n",
       "bmi_group_20-25         0.045982        -0.021080        -0.018038   \n",
       "bmi_group_25-30         0.001022         0.019473         0.058318   \n",
       "bmi_group_30-35        -0.011478        -0.026647        -0.022029   \n",
       "bmi_group_35-40        -0.034207         0.021179        -0.077426   \n",
       "bmi_group_40-45        -0.025464         0.012402         0.014342   \n",
       "bmi_group_40-50         0.005411        -0.014684         0.031564   \n",
       "bmi_group_50-55        -0.016076        -0.015551        -0.015351   \n",
       "\n",
       "                 age_group_40-45  age_group_45-50  age_group_50-55  \\\n",
       "charges                 0.035384         0.050008         0.104982   \n",
       "smoker_no              -0.030208         0.008897         0.028255   \n",
       "smoker_yes              0.030208        -0.008897        -0.028255   \n",
       "age_group_18-25        -0.183912        -0.189104        -0.186147   \n",
       "age_group_25-30        -0.114535        -0.117768        -0.115927   \n",
       "age_group_30-35        -0.110797        -0.113925        -0.112143   \n",
       "age_group_35-40        -0.109375        -0.112463        -0.110705   \n",
       "age_group_40-45         1.000000        -0.117292        -0.115458   \n",
       "age_group_45-50        -0.117292         1.000000        -0.118717   \n",
       "age_group_50-55        -0.115458        -0.118717         1.000000   \n",
       "age_group_55-60        -0.108421        -0.111482        -0.109739   \n",
       "age_group_60-65        -0.091238        -0.093814        -0.092347   \n",
       "bmi_group_15-20        -0.060050        -0.005773        -0.032444   \n",
       "bmi_group_20-25         0.019859        -0.054596         0.009779   \n",
       "bmi_group_25-30         0.002595         0.050342        -0.077548   \n",
       "bmi_group_30-35         0.000921        -0.004596         0.039240   \n",
       "bmi_group_35-40         0.032706        -0.027180         0.042158   \n",
       "bmi_group_40-45        -0.035961         0.025377        -0.004673   \n",
       "bmi_group_40-50        -0.016303         0.046734         0.048426   \n",
       "bmi_group_50-55        -0.016011        -0.016463        -0.016205   \n",
       "\n",
       "                 age_group_55-60  age_group_60-65  bmi_group_15-20  \\\n",
       "charges                 0.102760         0.173898        -0.065092   \n",
       "smoker_no               0.048352        -0.024752        -0.006489   \n",
       "smoker_yes             -0.048352         0.024752         0.006489   \n",
       "age_group_18-25        -0.174802        -0.147099         0.016761   \n",
       "age_group_25-30        -0.108861        -0.091609         0.039514   \n",
       "age_group_30-35        -0.105308        -0.088619         0.014882   \n",
       "age_group_35-40        -0.103957        -0.087482         0.075579   \n",
       "age_group_40-45        -0.108421        -0.091238        -0.060050   \n",
       "age_group_45-50        -0.111482        -0.093814        -0.005773   \n",
       "age_group_50-55        -0.109739        -0.092347        -0.032444   \n",
       "age_group_55-60         1.000000        -0.086719        -0.012373   \n",
       "age_group_60-65        -0.086719         1.000000        -0.048030   \n",
       "bmi_group_15-20        -0.012373        -0.048030         1.000000   \n",
       "bmi_group_20-25        -0.037323        -0.024762        -0.075846   \n",
       "bmi_group_25-30         0.027994        -0.060625        -0.113213   \n",
       "bmi_group_30-35        -0.013242         0.016626        -0.113832   \n",
       "bmi_group_35-40         0.006728         0.108717        -0.079940   \n",
       "bmi_group_40-45         0.038574         0.002267        -0.042088   \n",
       "bmi_group_40-50        -0.013487        -0.030645        -0.020169   \n",
       "bmi_group_50-55        -0.015218        -0.012806        -0.008428   \n",
       "\n",
       "                 bmi_group_20-25  bmi_group_25-30  bmi_group_30-35  \\\n",
       "charges                -0.095090        -0.119542         0.061297   \n",
       "smoker_no              -0.019575         0.016541         0.027166   \n",
       "smoker_yes              0.019575        -0.016541        -0.027166   \n",
       "age_group_18-25         0.053684        -0.020731         0.015816   \n",
       "age_group_25-30         0.045982         0.001022        -0.011478   \n",
       "age_group_30-35        -0.021080         0.019473        -0.026647   \n",
       "age_group_35-40        -0.018038         0.058318        -0.022029   \n",
       "age_group_40-45         0.019859         0.002595         0.000921   \n",
       "age_group_45-50        -0.054596         0.050342        -0.004596   \n",
       "age_group_50-55         0.009779        -0.077548         0.039240   \n",
       "age_group_55-60        -0.037323         0.027994        -0.013242   \n",
       "age_group_60-65        -0.024762        -0.060625         0.016626   \n",
       "bmi_group_15-20        -0.075846        -0.113213        -0.113832   \n",
       "bmi_group_20-25         1.000000        -0.271635        -0.273119   \n",
       "bmi_group_25-30        -0.271635         1.000000        -0.407678   \n",
       "bmi_group_30-35        -0.273119        -0.407678         1.000000   \n",
       "bmi_group_35-40        -0.191802        -0.286298        -0.287863   \n",
       "bmi_group_40-45        -0.100984        -0.150736        -0.151559   \n",
       "bmi_group_40-50        -0.048393        -0.072235        -0.072630   \n",
       "bmi_group_50-55        -0.020222        -0.030185        -0.030350   \n",
       "\n",
       "                 bmi_group_35-40  bmi_group_40-45  bmi_group_40-50  \\\n",
       "charges                 0.139349         0.064516         0.042588   \n",
       "smoker_no              -0.019430        -0.012066        -0.008577   \n",
       "smoker_yes              0.019430         0.012066         0.008577   \n",
       "age_group_18-25        -0.040240        -0.017764        -0.045884   \n",
       "age_group_25-30        -0.034207        -0.025464         0.005411   \n",
       "age_group_30-35         0.021179         0.012402        -0.014684   \n",
       "age_group_35-40        -0.077426         0.014342         0.031564   \n",
       "age_group_40-45         0.032706        -0.035961        -0.016303   \n",
       "age_group_45-50        -0.027180         0.025377         0.046734   \n",
       "age_group_50-55         0.042158        -0.004673         0.048426   \n",
       "age_group_55-60         0.006728         0.038574        -0.013487   \n",
       "age_group_60-65         0.108717         0.002267        -0.030645   \n",
       "bmi_group_15-20        -0.079940        -0.042088        -0.020169   \n",
       "bmi_group_20-25        -0.191802        -0.100984        -0.048393   \n",
       "bmi_group_25-30        -0.286298        -0.150736        -0.072235   \n",
       "bmi_group_30-35        -0.287863        -0.151559        -0.072630   \n",
       "bmi_group_35-40         1.000000        -0.106435        -0.051005   \n",
       "bmi_group_40-45        -0.106435         1.000000        -0.026854   \n",
       "bmi_group_40-50        -0.051005        -0.026854         1.000000   \n",
       "bmi_group_50-55        -0.021314        -0.011222        -0.005378   \n",
       "\n",
       "                 bmi_group_50-55  \n",
       "charges                 0.010823  \n",
       "smoker_no              -0.015101  \n",
       "smoker_yes              0.015101  \n",
       "age_group_18-25         0.087056  \n",
       "age_group_25-30        -0.016076  \n",
       "age_group_30-35        -0.015551  \n",
       "age_group_35-40        -0.015351  \n",
       "age_group_40-45        -0.016011  \n",
       "age_group_45-50        -0.016463  \n",
       "age_group_50-55        -0.016205  \n",
       "age_group_55-60        -0.015218  \n",
       "age_group_60-65        -0.012806  \n",
       "bmi_group_15-20        -0.008428  \n",
       "bmi_group_20-25        -0.020222  \n",
       "bmi_group_25-30        -0.030185  \n",
       "bmi_group_30-35        -0.030350  \n",
       "bmi_group_35-40        -0.021314  \n",
       "bmi_group_40-45        -0.011222  \n",
       "bmi_group_40-50        -0.005378  \n",
       "bmi_group_50-55         1.000000  "
      ]
     },
     "execution_count": 91,
     "metadata": {},
     "output_type": "execute_result"
    }
   ],
   "source": [
    "insur.corr()"
   ]
  },
  {
   "cell_type": "code",
   "execution_count": 92,
   "id": "fe64253c",
   "metadata": {},
   "outputs": [
    {
     "data": {
      "text/html": [
       "<div>\n",
       "<style scoped>\n",
       "    .dataframe tbody tr th:only-of-type {\n",
       "        vertical-align: middle;\n",
       "    }\n",
       "\n",
       "    .dataframe tbody tr th {\n",
       "        vertical-align: top;\n",
       "    }\n",
       "\n",
       "    .dataframe thead th {\n",
       "        text-align: right;\n",
       "    }\n",
       "</style>\n",
       "<table border=\"1\" class=\"dataframe\">\n",
       "  <thead>\n",
       "    <tr style=\"text-align: right;\">\n",
       "      <th></th>\n",
       "      <th>smoker_no</th>\n",
       "      <th>smoker_yes</th>\n",
       "      <th>age_group_18-25</th>\n",
       "      <th>age_group_25-30</th>\n",
       "      <th>age_group_30-35</th>\n",
       "      <th>age_group_35-40</th>\n",
       "      <th>age_group_40-45</th>\n",
       "      <th>age_group_45-50</th>\n",
       "      <th>age_group_50-55</th>\n",
       "      <th>age_group_55-60</th>\n",
       "      <th>age_group_60-65</th>\n",
       "      <th>bmi_group_15-20</th>\n",
       "      <th>bmi_group_20-25</th>\n",
       "      <th>bmi_group_25-30</th>\n",
       "      <th>bmi_group_30-35</th>\n",
       "      <th>bmi_group_35-40</th>\n",
       "      <th>bmi_group_40-45</th>\n",
       "      <th>bmi_group_40-50</th>\n",
       "      <th>bmi_group_50-55</th>\n",
       "    </tr>\n",
       "  </thead>\n",
       "  <tbody>\n",
       "    <tr>\n",
       "      <th>0</th>\n",
       "      <td>0</td>\n",
       "      <td>1</td>\n",
       "      <td>1</td>\n",
       "      <td>0</td>\n",
       "      <td>0</td>\n",
       "      <td>0</td>\n",
       "      <td>0</td>\n",
       "      <td>0</td>\n",
       "      <td>0</td>\n",
       "      <td>0</td>\n",
       "      <td>0</td>\n",
       "      <td>0</td>\n",
       "      <td>0</td>\n",
       "      <td>1</td>\n",
       "      <td>0</td>\n",
       "      <td>0</td>\n",
       "      <td>0</td>\n",
       "      <td>0</td>\n",
       "      <td>0</td>\n",
       "    </tr>\n",
       "    <tr>\n",
       "      <th>1</th>\n",
       "      <td>1</td>\n",
       "      <td>0</td>\n",
       "      <td>1</td>\n",
       "      <td>0</td>\n",
       "      <td>0</td>\n",
       "      <td>0</td>\n",
       "      <td>0</td>\n",
       "      <td>0</td>\n",
       "      <td>0</td>\n",
       "      <td>0</td>\n",
       "      <td>0</td>\n",
       "      <td>0</td>\n",
       "      <td>0</td>\n",
       "      <td>0</td>\n",
       "      <td>1</td>\n",
       "      <td>0</td>\n",
       "      <td>0</td>\n",
       "      <td>0</td>\n",
       "      <td>0</td>\n",
       "    </tr>\n",
       "    <tr>\n",
       "      <th>2</th>\n",
       "      <td>1</td>\n",
       "      <td>0</td>\n",
       "      <td>0</td>\n",
       "      <td>1</td>\n",
       "      <td>0</td>\n",
       "      <td>0</td>\n",
       "      <td>0</td>\n",
       "      <td>0</td>\n",
       "      <td>0</td>\n",
       "      <td>0</td>\n",
       "      <td>0</td>\n",
       "      <td>0</td>\n",
       "      <td>0</td>\n",
       "      <td>0</td>\n",
       "      <td>1</td>\n",
       "      <td>0</td>\n",
       "      <td>0</td>\n",
       "      <td>0</td>\n",
       "      <td>0</td>\n",
       "    </tr>\n",
       "    <tr>\n",
       "      <th>3</th>\n",
       "      <td>1</td>\n",
       "      <td>0</td>\n",
       "      <td>0</td>\n",
       "      <td>0</td>\n",
       "      <td>1</td>\n",
       "      <td>0</td>\n",
       "      <td>0</td>\n",
       "      <td>0</td>\n",
       "      <td>0</td>\n",
       "      <td>0</td>\n",
       "      <td>0</td>\n",
       "      <td>0</td>\n",
       "      <td>1</td>\n",
       "      <td>0</td>\n",
       "      <td>0</td>\n",
       "      <td>0</td>\n",
       "      <td>0</td>\n",
       "      <td>0</td>\n",
       "      <td>0</td>\n",
       "    </tr>\n",
       "    <tr>\n",
       "      <th>4</th>\n",
       "      <td>1</td>\n",
       "      <td>0</td>\n",
       "      <td>0</td>\n",
       "      <td>0</td>\n",
       "      <td>1</td>\n",
       "      <td>0</td>\n",
       "      <td>0</td>\n",
       "      <td>0</td>\n",
       "      <td>0</td>\n",
       "      <td>0</td>\n",
       "      <td>0</td>\n",
       "      <td>0</td>\n",
       "      <td>0</td>\n",
       "      <td>1</td>\n",
       "      <td>0</td>\n",
       "      <td>0</td>\n",
       "      <td>0</td>\n",
       "      <td>0</td>\n",
       "      <td>0</td>\n",
       "    </tr>\n",
       "  </tbody>\n",
       "</table>\n",
       "</div>"
      ],
      "text/plain": [
       "   smoker_no  smoker_yes  age_group_18-25  age_group_25-30  age_group_30-35  \\\n",
       "0          0           1                1                0                0   \n",
       "1          1           0                1                0                0   \n",
       "2          1           0                0                1                0   \n",
       "3          1           0                0                0                1   \n",
       "4          1           0                0                0                1   \n",
       "\n",
       "   age_group_35-40  age_group_40-45  age_group_45-50  age_group_50-55  \\\n",
       "0                0                0                0                0   \n",
       "1                0                0                0                0   \n",
       "2                0                0                0                0   \n",
       "3                0                0                0                0   \n",
       "4                0                0                0                0   \n",
       "\n",
       "   age_group_55-60  age_group_60-65  bmi_group_15-20  bmi_group_20-25  \\\n",
       "0                0                0                0                0   \n",
       "1                0                0                0                0   \n",
       "2                0                0                0                0   \n",
       "3                0                0                0                1   \n",
       "4                0                0                0                0   \n",
       "\n",
       "   bmi_group_25-30  bmi_group_30-35  bmi_group_35-40  bmi_group_40-45  \\\n",
       "0                1                0                0                0   \n",
       "1                0                1                0                0   \n",
       "2                0                1                0                0   \n",
       "3                0                0                0                0   \n",
       "4                1                0                0                0   \n",
       "\n",
       "   bmi_group_40-50  bmi_group_50-55  \n",
       "0                0                0  \n",
       "1                0                0  \n",
       "2                0                0  \n",
       "3                0                0  \n",
       "4                0                0  "
      ]
     },
     "execution_count": 92,
     "metadata": {},
     "output_type": "execute_result"
    }
   ],
   "source": [
    "#separating into target and features\n",
    "features= insur.drop(['charges'],axis=1)\n",
    "features.head()"
   ]
  },
  {
   "cell_type": "code",
   "execution_count": 93,
   "id": "1b1a9a11",
   "metadata": {},
   "outputs": [
    {
     "data": {
      "text/plain": [
       "0    16884.92400\n",
       "1     1725.55230\n",
       "2     4449.46200\n",
       "3    21984.47061\n",
       "4     3866.85520\n",
       "Name: charges, dtype: float64"
      ]
     },
     "execution_count": 93,
     "metadata": {},
     "output_type": "execute_result"
    }
   ],
   "source": [
    "target = insur['charges']\n",
    "target.head()"
   ]
  },
  {
   "cell_type": "code",
   "execution_count": 94,
   "id": "d3701a17",
   "metadata": {},
   "outputs": [],
   "source": [
    "from sklearn.model_selection import train_test_split as tts #splitting data into train set and test set"
   ]
  },
  {
   "cell_type": "code",
   "execution_count": 95,
   "id": "9f8f19e2",
   "metadata": {},
   "outputs": [],
   "source": [
    "X_train,X_test,y_train,y_test = tts(features,target,random_state=88)"
   ]
  },
  {
   "cell_type": "code",
   "execution_count": 96,
   "id": "5228759c",
   "metadata": {},
   "outputs": [],
   "source": [
    "from sklearn.linear_model import LinearRegression as LR\n",
    "from sklearn.metrics import mean_absolute_error as mae"
   ]
  },
  {
   "cell_type": "code",
   "execution_count": 97,
   "id": "c67477a1",
   "metadata": {},
   "outputs": [],
   "source": [
    "linreg = LR(normalize =True)"
   ]
  },
  {
   "cell_type": "code",
   "execution_count": 98,
   "id": "5bbbaf6e",
   "metadata": {},
   "outputs": [
    {
     "data": {
      "text/plain": [
       "LinearRegression(normalize=True)"
      ]
     },
     "execution_count": 98,
     "metadata": {},
     "output_type": "execute_result"
    }
   ],
   "source": [
    "linreg.fit(X_train,y_train)"
   ]
  },
  {
   "cell_type": "code",
   "execution_count": 99,
   "id": "09863d50",
   "metadata": {},
   "outputs": [
    {
     "data": {
      "text/plain": [
       "4360.389793857428"
      ]
     },
     "execution_count": 99,
     "metadata": {},
     "output_type": "execute_result"
    }
   ],
   "source": [
    "train_predict = linreg.predict(X_train)\n",
    "k = mae(train_predict,y_train)\n",
    "k"
   ]
  },
  {
   "cell_type": "code",
   "execution_count": 100,
   "id": "7539c62a",
   "metadata": {},
   "outputs": [
    {
     "data": {
      "text/plain": [
       "4268.245517492537"
      ]
     },
     "execution_count": 100,
     "metadata": {},
     "output_type": "execute_result"
    }
   ],
   "source": [
    "test_predict = linreg.predict(X_test)\n",
    "k = mae(test_predict,y_test)\n",
    "k"
   ]
  },
  {
   "cell_type": "code",
   "execution_count": 101,
   "id": "fcb1788b",
   "metadata": {},
   "outputs": [],
   "source": [
    "from sklearn.linear_model import Ridge"
   ]
  },
  {
   "cell_type": "code",
   "execution_count": 102,
   "id": "29945bdf",
   "metadata": {},
   "outputs": [],
   "source": [
    "ridge_reg = Ridge(alpha = 1)"
   ]
  },
  {
   "cell_type": "code",
   "execution_count": 103,
   "id": "12930b90",
   "metadata": {},
   "outputs": [
    {
     "data": {
      "text/plain": [
       "Ridge(alpha=1)"
      ]
     },
     "execution_count": 103,
     "metadata": {},
     "output_type": "execute_result"
    }
   ],
   "source": [
    "ridge_reg.fit(X_train,y_train)"
   ]
  },
  {
   "cell_type": "code",
   "execution_count": 104,
   "id": "1790cb6b",
   "metadata": {},
   "outputs": [
    {
     "data": {
      "text/plain": [
       "4342.577145265919"
      ]
     },
     "execution_count": 104,
     "metadata": {},
     "output_type": "execute_result"
    }
   ],
   "source": [
    "train_predict = ridge_reg.predict(X_train)\n",
    "k = mae(train_predict,y_train)\n",
    "k"
   ]
  },
  {
   "cell_type": "code",
   "execution_count": 105,
   "id": "8d71baf0",
   "metadata": {},
   "outputs": [
    {
     "data": {
      "text/plain": [
       "4250.786458173615"
      ]
     },
     "execution_count": 105,
     "metadata": {},
     "output_type": "execute_result"
    }
   ],
   "source": [
    "test_predict = ridge_reg.predict(X_test)\n",
    "k = mae(test_predict,y_test)\n",
    "k"
   ]
  },
  {
   "cell_type": "code",
   "execution_count": 106,
   "id": "a7bc737c",
   "metadata": {},
   "outputs": [],
   "source": [
    "from sklearn.linear_model import Lasso"
   ]
  },
  {
   "cell_type": "code",
   "execution_count": 107,
   "id": "f7d4c99a",
   "metadata": {},
   "outputs": [],
   "source": [
    "lasso_reg = Lasso(alpha=1)"
   ]
  },
  {
   "cell_type": "code",
   "execution_count": 108,
   "id": "5fee95b4",
   "metadata": {},
   "outputs": [
    {
     "data": {
      "text/plain": [
       "Lasso(alpha=1)"
      ]
     },
     "execution_count": 108,
     "metadata": {},
     "output_type": "execute_result"
    }
   ],
   "source": [
    "lasso_reg.fit(X_train,y_train)"
   ]
  },
  {
   "cell_type": "code",
   "execution_count": 109,
   "id": "707a935f",
   "metadata": {},
   "outputs": [
    {
     "data": {
      "text/plain": [
       "4347.128582917154"
      ]
     },
     "execution_count": 109,
     "metadata": {},
     "output_type": "execute_result"
    }
   ],
   "source": [
    "train_predict = lasso_reg.predict(X_train)\n",
    "k = mae(train_predict,y_train)\n",
    "k"
   ]
  },
  {
   "cell_type": "code",
   "execution_count": 110,
   "id": "6ebed053",
   "metadata": {},
   "outputs": [
    {
     "data": {
      "text/plain": [
       "4251.767055053145"
      ]
     },
     "execution_count": 110,
     "metadata": {},
     "output_type": "execute_result"
    }
   ],
   "source": [
    "test_predict = lasso_reg.predict(X_test)\n",
    "k = mae(test_predict,y_test)\n",
    "k"
   ]
  },
  {
   "cell_type": "code",
   "execution_count": null,
   "id": "dc121481",
   "metadata": {},
   "outputs": [],
   "source": []
  },
  {
   "cell_type": "code",
   "execution_count": null,
   "id": "28388d13",
   "metadata": {},
   "outputs": [],
   "source": []
  }
 ],
 "metadata": {
  "kernelspec": {
   "display_name": "MLlearn",
   "language": "python",
   "name": "mllearn"
  },
  "language_info": {
   "codemirror_mode": {
    "name": "ipython",
    "version": 3
   },
   "file_extension": ".py",
   "mimetype": "text/x-python",
   "name": "python",
   "nbconvert_exporter": "python",
   "pygments_lexer": "ipython3",
   "version": "3.9.12"
  }
 },
 "nbformat": 4,
 "nbformat_minor": 5
}
